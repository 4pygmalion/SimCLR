{
 "cells": [
  {
   "cell_type": "code",
   "execution_count": 1,
   "metadata": {},
   "outputs": [
    {
     "name": "stderr",
     "output_type": "stream",
     "text": [
      "/home/heon/anaconda3/envs/camelyon/lib/python3.8/site-packages/tqdm/auto.py:21: TqdmWarning: IProgress not found. Please update jupyter and ipywidgets. See https://ipywidgets.readthedocs.io/en/stable/user_install.html\n",
      "  from .autonotebook import tqdm as notebook_tqdm\n",
      "/home/heon/anaconda3/envs/camelyon/lib/python3.8/site-packages/torchvision/models/_utils.py:223: UserWarning: Arguments other than a weight enum or `None` for 'weights' are deprecated since 0.13 and will be removed in 0.15. The current behavior is equivalent to passing `weights=None`.\n",
      "  warnings.warn(msg)\n"
     ]
    }
   ],
   "source": [
    "import torch\n",
    "from core.models import ResNetEncoder\n",
    "\n",
    "device = \"cuda:1\"\n",
    "encoder = ResNetEncoder(out_features=1024).to(device)"
   ]
  },
  {
   "cell_type": "code",
   "execution_count": 2,
   "metadata": {},
   "outputs": [],
   "source": [
    "import os\n",
    "import glob\n",
    "\n",
    "from torchvision.transforms import RandomCrop, GaussianBlur, RandomEqualize, RandomRotation, RandomAffine, Compose, ToTensor\n",
    "from core.datasets import SimCLRDataSet\n",
    "from matplotlib import pyplot as plt\n",
    "\n",
    "images = glob.glob(os.path.join(\"/home/heon/heon_vast/camelyon17_patches_new/RUMC/malignant\", \"*\"))\n",
    "dataset = SimCLRDataSet(\n",
    "    images, \n",
    "    augmentations=[\n",
    "        GaussianBlur((3,3)), \n",
    "        RandomEqualize(), \n",
    "        RandomRotation(degrees=(0, 360)), \n",
    "        RandomAffine(degrees=(30, 70), translate=(0.1, 0.3), scale=(0.5, 0.75))\n",
    "    ],\n",
    "    transforms=Compose([ToTensor()]),\n",
    "    device=device\n",
    ")"
   ]
  },
  {
   "cell_type": "code",
   "execution_count": 3,
   "metadata": {},
   "outputs": [
    {
     "data": {
      "text/plain": [
       "tensor(2.0694, device='cuda:1', grad_fn=<NllLossBackward0>)"
      ]
     },
     "execution_count": 3,
     "metadata": {},
     "output_type": "execute_result"
    }
   ],
   "source": [
    "from core.trainer import SimCLRTrainer\n",
    "from core.loss import SimCLRLoss\n",
    "dataloder = torch.utils.data.DataLoader(dataset, batch_size=4)\n",
    "xi, xj = next(iter(dataloder))\n",
    "vectors_i = encoder(xi)\n",
    "vectors_j = encoder(xj)\n",
    "loss = SimCLRLoss(device=device)\n",
    "loss(vectors_i, vectors_j)"
   ]
  },
  {
   "cell_type": "code",
   "execution_count": 4,
   "metadata": {},
   "outputs": [
    {
     "name": "stderr",
     "output_type": "stream",
     "text": [
      " |################################| train | EPOCH 1: [195/195] | eta:1 | total_loss: 1.9373  \n",
      "\u001b[?25h"
     ]
    }
   ],
   "source": [
    "from core.metrics import AverageMeter\n",
    "optimizer = torch.optim.Adam(encoder.parameters())\n",
    "trainer = SimCLRTrainer(encoder, optimizer, loss, device=device)\n",
    "encoder.to(device)\n",
    "loss_meter: AverageMeter = trainer.run_epoch(dataloder, phase=\"train\", epoch=1)"
   ]
  }
 ],
 "metadata": {
  "kernelspec": {
   "display_name": "camelyon",
   "language": "python",
   "name": "python3"
  },
  "language_info": {
   "codemirror_mode": {
    "name": "ipython",
    "version": 3
   },
   "file_extension": ".py",
   "mimetype": "text/x-python",
   "name": "python",
   "nbconvert_exporter": "python",
   "pygments_lexer": "ipython3",
   "version": "3.8.18"
  }
 },
 "nbformat": 4,
 "nbformat_minor": 2
}
