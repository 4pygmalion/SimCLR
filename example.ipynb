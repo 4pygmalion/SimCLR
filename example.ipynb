{
 "cells": [
  {
   "cell_type": "code",
   "execution_count": 1,
   "metadata": {},
   "outputs": [],
   "source": [
    "%load_ext autoreload\n",
    "%autoreload 2"
   ]
  },
  {
   "cell_type": "code",
   "execution_count": 2,
   "metadata": {},
   "outputs": [
    {
     "name": "stderr",
     "output_type": "stream",
     "text": [
      "/home/heon/anaconda3/envs/camelyon/lib/python3.8/site-packages/tqdm/auto.py:21: TqdmWarning: IProgress not found. Please update jupyter and ipywidgets. See https://ipywidgets.readthedocs.io/en/stable/user_install.html\n",
      "  from .autonotebook import tqdm as notebook_tqdm\n",
      "/home/heon/anaconda3/envs/camelyon/lib/python3.8/site-packages/torchvision/models/_utils.py:223: UserWarning: Arguments other than a weight enum or `None` for 'weights' are deprecated since 0.13 and will be removed in 0.15. The current behavior is equivalent to passing `weights=None`.\n",
      "  warnings.warn(msg)\n"
     ]
    }
   ],
   "source": [
    "import torch\n",
    "import torchvision\n",
    "from core.models import ResNetEncoder\n",
    "encoder = ResNetEncoder(out_features=1024)"
   ]
  },
  {
   "cell_type": "code",
   "execution_count": 3,
   "metadata": {},
   "outputs": [],
   "source": [
    "import os\n",
    "import glob\n",
    "\n",
    "from torchvision.transforms import RandomCrop, GaussianBlur, RandomEqualize, RandomRotation, RandomAffine, Compose, ToTensor\n",
    "from core.datasets import SimCLRDataSet\n",
    "from matplotlib import pyplot as plt\n",
    "\n",
    "images = glob.glob(os.path.join(\"/home/heon/heon_vast/camelyon17_patches_new/RUMC/malignant\", \"*\"))\n",
    "dataset = SimCLRDataSet(\n",
    "    images, \n",
    "    augmentations=[\n",
    "        GaussianBlur((3,3)), \n",
    "        RandomEqualize(), \n",
    "        RandomRotation(degrees=(0, 360)), \n",
    "        RandomAffine(degrees=(30, 70), translate=(0.1, 0.3), scale=(0.5, 0.75))\n",
    "    ],\n",
    "    transforms=Compose([ToTensor()]),\n",
    "    device=\"cuda:1\"\n",
    ")"
   ]
  },
  {
   "cell_type": "code",
   "execution_count": 4,
   "metadata": {},
   "outputs": [],
   "source": [
    "from core.trainer import SimCLRTrainer\n",
    "from core.loss import SimCLRLoss\n",
    "dataloder = torch.utils.data.DataLoader(dataset, batch_size=16)\n",
    "criterion = SimCLRLoss()\n",
    "trainer = SimCLRTrainer(encoder, criterion)"
   ]
  },
  {
   "cell_type": "code",
   "execution_count": 5,
   "metadata": {},
   "outputs": [],
   "source": [
    "encoder.to(\"cuda:1\")\n",
    "a, b = trainer.run_epoch(dataloder, phase=\"train\", epoch=1)"
   ]
  },
  {
   "cell_type": "code",
   "execution_count": 18,
   "metadata": {},
   "outputs": [
    {
     "data": {
      "text/plain": [
       "tensor(3.4497, device='cuda:1', grad_fn=<NllLossBackward0>)"
      ]
     },
     "execution_count": 18,
     "metadata": {},
     "output_type": "execute_result"
    }
   ],
   "source": [
    "from core.loss import SimCLRLoss\n",
    "loss = SimCLRLoss(device=\"cuda:1\")\n",
    "loss(a,b)"
   ]
  }
 ],
 "metadata": {
  "kernelspec": {
   "display_name": "camelyon",
   "language": "python",
   "name": "python3"
  },
  "language_info": {
   "codemirror_mode": {
    "name": "ipython",
    "version": 3
   },
   "file_extension": ".py",
   "mimetype": "text/x-python",
   "name": "python",
   "nbconvert_exporter": "python",
   "pygments_lexer": "ipython3",
   "version": "3.8.18"
  }
 },
 "nbformat": 4,
 "nbformat_minor": 2
}
